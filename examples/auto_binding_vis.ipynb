{
 "cells": [
  {
   "cell_type": "markdown",
   "id": "5bfcdf72-0ac4-4052-b33a-74cea38c2afc",
   "metadata": {},
   "source": [
    "# Import the necessary packages"
   ]
  },
  {
   "cell_type": "code",
   "execution_count": 2,
   "id": "ada2025a-907a-4492-8e1e-118fe484abe8",
   "metadata": {},
   "outputs": [],
   "source": [
    "import MDAnalysis as mda\n",
    "import nglview as nv\n",
    "import prolif as plf\n",
    "import Bio"
   ]
  },
  {
   "cell_type": "markdown",
   "id": "8d72b92c-d32d-4673-9245-f5d8a1905228",
   "metadata": {},
   "source": [
    "# Function for parsing PDB structure"
   ]
  },
  {
   "cell_type": "code",
   "execution_count": 4,
   "id": "8a821e35-287b-4646-bb3b-df3951255cab",
   "metadata": {},
   "outputs": [],
   "source": [
    "from Bio.PDB import PDBList\n",
    "\n",
    "def load_pdb_structure(pdb_id, file_format=\"pdb\"):\n",
    "    \"\"\"\n",
    "    Load a PDB structure by its ID from the PDB database.\n",
    "\n",
    "    Parameters:\n",
    "    - pdb_id: str, the four-letter PDB ID.\n",
    "    - file_format: str, the format of the downloaded file (default is \"pdb\").\n",
    "\n",
    "    Returns:\n",
    "    - The path to the downloaded PDB file.\n",
    "    \"\"\"\n",
    "    pdb_list = PDBList()\n",
    "    pdb_filename = pdb_list.retrieve_pdb_file(pdb_id, pdir=\".\", file_format=file_format)\n",
    "    return pdb_filename"
   ]
  },
  {
   "cell_type": "markdown",
   "id": "838368fb-e566-486e-9741-b737ccb55186",
   "metadata": {},
   "source": [
    "# Write your PDB ID and parse the structure"
   ]
  },
  {
   "cell_type": "code",
   "execution_count": 12,
   "id": "9a32d815-70c4-4763-9dcb-34625b9949b7",
   "metadata": {},
   "outputs": [
    {
     "name": "stdout",
     "output_type": "stream",
     "text": [
      "auto_binding_vis.ipynb\tpdb4hhb.ent\n"
     ]
    }
   ],
   "source": [
    "!ls"
   ]
  },
  {
   "cell_type": "code",
   "execution_count": 14,
   "id": "c91d8632-05ab-4ec7-9fe9-f3edd109d58a",
   "metadata": {},
   "outputs": [
    {
     "name": "stdout",
     "output_type": "stream",
     "text": [
      "Parsed structure: 4hhb\n"
     ]
    },
    {
     "name": "stderr",
     "output_type": "stream",
     "text": [
      "/home/veronika/miniconda3/envs/binding_env/lib/python3.10/site-packages/Bio/PDB/StructureBuilder.py:100: PDBConstructionWarning: WARNING: Chain A is discontinuous at line 5273.\n",
      "  warnings.warn(\n",
      "/home/veronika/miniconda3/envs/binding_env/lib/python3.10/site-packages/Bio/PDB/StructureBuilder.py:100: PDBConstructionWarning: WARNING: Chain B is discontinuous at line 5316.\n",
      "  warnings.warn(\n",
      "/home/veronika/miniconda3/envs/binding_env/lib/python3.10/site-packages/Bio/PDB/StructureBuilder.py:100: PDBConstructionWarning: WARNING: Chain C is discontinuous at line 5360.\n",
      "  warnings.warn(\n",
      "/home/veronika/miniconda3/envs/binding_env/lib/python3.10/site-packages/Bio/PDB/StructureBuilder.py:100: PDBConstructionWarning: WARNING: Chain D is discontinuous at line 5403.\n",
      "  warnings.warn(\n",
      "/home/veronika/miniconda3/envs/binding_env/lib/python3.10/site-packages/Bio/PDB/StructureBuilder.py:100: PDBConstructionWarning: WARNING: Chain A is discontinuous at line 5447.\n",
      "  warnings.warn(\n",
      "/home/veronika/miniconda3/envs/binding_env/lib/python3.10/site-packages/Bio/PDB/StructureBuilder.py:100: PDBConstructionWarning: WARNING: Chain B is discontinuous at line 5503.\n",
      "  warnings.warn(\n",
      "/home/veronika/miniconda3/envs/binding_env/lib/python3.10/site-packages/Bio/PDB/StructureBuilder.py:100: PDBConstructionWarning: WARNING: Chain C is discontinuous at line 5560.\n",
      "  warnings.warn(\n",
      "/home/veronika/miniconda3/envs/binding_env/lib/python3.10/site-packages/Bio/PDB/StructureBuilder.py:100: PDBConstructionWarning: WARNING: Chain D is discontinuous at line 5619.\n",
      "  warnings.warn(\n"
     ]
    }
   ],
   "source": [
    "pdb_id = \"4hhb\"\n",
    "pdb_filename = f\"pdb{pdb_id}.ent\"\n",
    "\n",
    "# To parse the downloaded PDB file\n",
    "from Bio.PDB import PDBParser\n",
    "\n",
    "def parse_pdb_file(pdb_filename):\n",
    "    parser = PDBParser()\n",
    "    structure = parser.get_structure(\"Structure\", pdb_filename)\n",
    "    return structure\n",
    "\n",
    "structure = parse_pdb_file(pdb_filename)\n",
    "print(f\"Parsed structure: {pdb_id}\")"
   ]
  },
  {
   "cell_type": "markdown",
   "id": "a6cbc476-cc65-404c-90db-a04a1408046a",
   "metadata": {},
   "source": [
    "# Loading PDB to MDAnalysis"
   ]
  },
  {
   "cell_type": "code",
   "execution_count": 18,
   "id": "a70124eb-23c9-46d7-a69f-ca235afd9921",
   "metadata": {},
   "outputs": [
    {
     "name": "stdout",
     "output_type": "stream",
     "text": [
      "No ligand found for PDB ID 4hhb.\n"
     ]
    }
   ],
   "source": [
    "# Load PDB file\n",
    "u = mda.Universe(f\"pdb{pdb_id}.ent\")\n",
    "\n",
    "# Select protein and ligand\n",
    "protein = u.select_atoms(\"protein\")\n",
    "ligand = u.select_atoms(\"resname LIG\")  # Replace 'LIG' with actual ligand name\n",
    "\n",
    "# Check if ligand selection is not empty\n",
    "if ligand.n_atoms > 0:\n",
    "    # Visualize binding site\n",
    "    view = nv.show_mdanalysis(protein)\n",
    "    view.clear_representations()\n",
    "    view.add_representation(\"surface\", colorScheme=\"hydrophobicity\")\n",
    "    \n",
    "    # Add ligand to view\n",
    "    lig_view = view.add_component(ligand)\n",
    "    lig_view.center()\n",
    "else:\n",
    "    print(f\"No ligand found for PDB ID {pdb_id}.\")\n",
    "    # Handle the case where no ligand is found, e.g., display only the protein\n",
    "    view = nv.show_mdanalysis(protein)\n",
    "    view.clear_representations()\n",
    "    view.add_representation(\"surface\", colorScheme=\"hydrophobicity\")"
   ]
  },
  {
   "cell_type": "code",
   "execution_count": 19,
   "id": "dd991053-72ac-42c9-9115-614b91a60d3a",
   "metadata": {},
   "outputs": [
    {
     "data": {
      "application/vnd.jupyter.widget-view+json": {
       "model_id": "89c87a78a59a48178e3b6b3e04fe3d5a",
       "version_major": 2,
       "version_minor": 0
      },
      "text/plain": [
       "NGLWidget()"
      ]
     },
     "metadata": {},
     "output_type": "display_data"
    }
   ],
   "source": [
    "view"
   ]
  },
  {
   "cell_type": "code",
   "execution_count": null,
   "id": "39d0e444-2bbb-47c9-96fc-4b74c81ee5af",
   "metadata": {},
   "outputs": [],
   "source": []
  }
 ],
 "metadata": {
  "kernelspec": {
   "display_name": "binding_env",
   "language": "python",
   "name": "binding_env"
  },
  "language_info": {
   "codemirror_mode": {
    "name": "ipython",
    "version": 3
   },
   "file_extension": ".py",
   "mimetype": "text/x-python",
   "name": "python",
   "nbconvert_exporter": "python",
   "pygments_lexer": "ipython3",
   "version": "3.10.16"
  }
 },
 "nbformat": 4,
 "nbformat_minor": 5
}
