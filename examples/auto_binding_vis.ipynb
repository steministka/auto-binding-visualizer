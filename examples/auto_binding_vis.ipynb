{
 "cells": [
  {
   "cell_type": "markdown",
   "id": "5bfcdf72-0ac4-4052-b33a-74cea38c2afc",
   "metadata": {},
   "source": [
    "# Import the necessary packages"
   ]
  },
  {
   "cell_type": "code",
   "execution_count": 2,
   "id": "ada2025a-907a-4492-8e1e-118fe484abe8",
   "metadata": {},
   "outputs": [],
   "source": [
    "import MDAnalysis as mda\n",
    "import nglview as nv\n",
    "import prolif as plf\n",
    "import Bio"
   ]
  },
  {
   "cell_type": "markdown",
   "id": "8d72b92c-d32d-4673-9245-f5d8a1905228",
   "metadata": {},
   "source": [
    "# Function for parsing PDB structure"
   ]
  },
  {
   "cell_type": "code",
   "execution_count": 4,
   "id": "8a821e35-287b-4646-bb3b-df3951255cab",
   "metadata": {},
   "outputs": [],
   "source": [
    "from Bio.PDB import PDBList\n",
    "\n",
    "def load_pdb_structure(pdb_id, file_format=\"pdb\"):\n",
    "    \"\"\"\n",
    "    Load a PDB structure by its ID from the PDB database.\n",
    "\n",
    "    Parameters:\n",
    "    - pdb_id: str, the four-letter PDB ID.\n",
    "    - file_format: str, the format of the downloaded file (default is \"pdb\").\n",
    "\n",
    "    Returns:\n",
    "    - The path to the downloaded PDB file.\n",
    "    \"\"\"\n",
    "    pdb_list = PDBList()\n",
    "    pdb_filename = pdb_list.retrieve_pdb_file(pdb_id, pdir=\".\", file_format=file_format)\n",
    "    return pdb_filename"
   ]
  },
  {
   "cell_type": "markdown",
   "id": "838368fb-e566-486e-9741-b737ccb55186",
   "metadata": {},
   "source": [
    "# Write your PDB ID and parse the structure"
   ]
  },
  {
   "cell_type": "code",
   "execution_count": 12,
   "id": "9a32d815-70c4-4763-9dcb-34625b9949b7",
   "metadata": {},
   "outputs": [
    {
     "name": "stdout",
     "output_type": "stream",
     "text": [
      "auto_binding_vis.ipynb\tpdb4hhb.ent\n"
     ]
    }
   ],
   "source": [
    "!ls"
   ]
  },
  {
   "cell_type": "code",
   "execution_count": 14,
   "id": "c91d8632-05ab-4ec7-9fe9-f3edd109d58a",
   "metadata": {},
   "outputs": [
    {
     "name": "stdout",
     "output_type": "stream",
     "text": [
      "Parsed structure: 4hhb\n"
     ]
    },
    {
     "name": "stderr",
     "output_type": "stream",
     "text": [
      "/home/veronika/miniconda3/envs/binding_env/lib/python3.10/site-packages/Bio/PDB/StructureBuilder.py:100: PDBConstructionWarning: WARNING: Chain A is discontinuous at line 5273.\n",
      "  warnings.warn(\n",
      "/home/veronika/miniconda3/envs/binding_env/lib/python3.10/site-packages/Bio/PDB/StructureBuilder.py:100: PDBConstructionWarning: WARNING: Chain B is discontinuous at line 5316.\n",
      "  warnings.warn(\n",
      "/home/veronika/miniconda3/envs/binding_env/lib/python3.10/site-packages/Bio/PDB/StructureBuilder.py:100: PDBConstructionWarning: WARNING: Chain C is discontinuous at line 5360.\n",
      "  warnings.warn(\n",
      "/home/veronika/miniconda3/envs/binding_env/lib/python3.10/site-packages/Bio/PDB/StructureBuilder.py:100: PDBConstructionWarning: WARNING: Chain D is discontinuous at line 5403.\n",
      "  warnings.warn(\n",
      "/home/veronika/miniconda3/envs/binding_env/lib/python3.10/site-packages/Bio/PDB/StructureBuilder.py:100: PDBConstructionWarning: WARNING: Chain A is discontinuous at line 5447.\n",
      "  warnings.warn(\n",
      "/home/veronika/miniconda3/envs/binding_env/lib/python3.10/site-packages/Bio/PDB/StructureBuilder.py:100: PDBConstructionWarning: WARNING: Chain B is discontinuous at line 5503.\n",
      "  warnings.warn(\n",
      "/home/veronika/miniconda3/envs/binding_env/lib/python3.10/site-packages/Bio/PDB/StructureBuilder.py:100: PDBConstructionWarning: WARNING: Chain C is discontinuous at line 5560.\n",
      "  warnings.warn(\n",
      "/home/veronika/miniconda3/envs/binding_env/lib/python3.10/site-packages/Bio/PDB/StructureBuilder.py:100: PDBConstructionWarning: WARNING: Chain D is discontinuous at line 5619.\n",
      "  warnings.warn(\n"
     ]
    }
   ],
   "source": [
    "pdb_id = \"4hhb\"\n",
    "pdb_filename = f\"pdb{pdb_id}.ent\"\n",
    "\n",
    "# To parse the downloaded PDB file\n",
    "from Bio.PDB import PDBParser\n",
    "\n",
    "def parse_pdb_file(pdb_filename):\n",
    "    parser = PDBParser()\n",
    "    structure = parser.get_structure(\"Structure\", pdb_filename)\n",
    "    return structure\n",
    "\n",
    "structure = parse_pdb_file(pdb_filename)\n",
    "print(f\"Parsed structure: {pdb_id}\")"
   ]
  },
  {
   "cell_type": "markdown",
   "id": "a6cbc476-cc65-404c-90db-a04a1408046a",
   "metadata": {},
   "source": [
    "# Loading PDB to MDAnalysis"
   ]
  },
  {
   "cell_type": "code",
   "execution_count": 17,
   "id": "a70124eb-23c9-46d7-a69f-ca235afd9921",
   "metadata": {},
   "outputs": [
    {
     "ename": "IndexError",
     "evalue": "Cannot write empty AtomGroup",
     "output_type": "error",
     "traceback": [
      "\u001b[0;31m---------------------------------------------------------------------------\u001b[0m",
      "\u001b[0;31mIndexError\u001b[0m                                Traceback (most recent call last)",
      "Cell \u001b[0;32mIn[17], line 12\u001b[0m\n\u001b[1;32m     10\u001b[0m view\u001b[38;5;241m.\u001b[39mclear_representations()\n\u001b[1;32m     11\u001b[0m view\u001b[38;5;241m.\u001b[39madd_representation(\u001b[38;5;124m\"\u001b[39m\u001b[38;5;124msurface\u001b[39m\u001b[38;5;124m\"\u001b[39m, colorScheme\u001b[38;5;241m=\u001b[39m\u001b[38;5;124m\"\u001b[39m\u001b[38;5;124mhydrophobicity\u001b[39m\u001b[38;5;124m\"\u001b[39m)\n\u001b[0;32m---> 12\u001b[0m lig_view \u001b[38;5;241m=\u001b[39m \u001b[43mview\u001b[49m\u001b[38;5;241;43m.\u001b[39;49m\u001b[43madd_component\u001b[49m\u001b[43m(\u001b[49m\u001b[43mligand\u001b[49m\u001b[43m)\u001b[49m\n\u001b[1;32m     13\u001b[0m lig_view\u001b[38;5;241m.\u001b[39mcenter()\n\u001b[1;32m     15\u001b[0m \u001b[38;5;66;03m# Interaction analysis\u001b[39;00m\n",
      "File \u001b[0;32m~/miniconda3/envs/binding_env/lib/python3.10/site-packages/nglview/widget.py:1115\u001b[0m, in \u001b[0;36mNGLWidget.add_component\u001b[0;34m(self, filename, **kwargs)\u001b[0m\n\u001b[1;32m   1112\u001b[0m     \u001b[38;5;28;01mif\u001b[39;00m package_name \u001b[38;5;129;01min\u001b[39;00m BACKENDS:\n\u001b[1;32m   1113\u001b[0m         filename \u001b[38;5;241m=\u001b[39m BACKENDS[package_name](filename)\n\u001b[0;32m-> 1115\u001b[0m \u001b[38;5;28;43mself\u001b[39;49m\u001b[38;5;241;43m.\u001b[39;49m\u001b[43m_load_data\u001b[49m\u001b[43m(\u001b[49m\u001b[43mfilename\u001b[49m\u001b[43m,\u001b[49m\u001b[43m \u001b[49m\u001b[38;5;241;43m*\u001b[39;49m\u001b[38;5;241;43m*\u001b[39;49m\u001b[43mkwargs\u001b[49m\u001b[43m)\u001b[49m\n\u001b[1;32m   1116\u001b[0m \u001b[38;5;66;03m# assign an ID\u001b[39;00m\n\u001b[1;32m   1117\u001b[0m \u001b[38;5;28mself\u001b[39m\u001b[38;5;241m.\u001b[39m_ngl_component_ids\u001b[38;5;241m.\u001b[39mappend(\u001b[38;5;28mstr\u001b[39m(uuid\u001b[38;5;241m.\u001b[39muuid4()))\n",
      "File \u001b[0;32m~/miniconda3/envs/binding_env/lib/python3.10/site-packages/nglview/widget.py:1141\u001b[0m, in \u001b[0;36mNGLWidget._load_data\u001b[0;34m(self, obj, **kwargs)\u001b[0m\n\u001b[1;32m   1139\u001b[0m \u001b[38;5;28;01mif\u001b[39;00m \u001b[38;5;129;01mnot\u001b[39;00m is_url:\n\u001b[1;32m   1140\u001b[0m     \u001b[38;5;28;01mif\u001b[39;00m \u001b[38;5;28mhasattr\u001b[39m(obj, \u001b[38;5;124m'\u001b[39m\u001b[38;5;124mget_structure_string\u001b[39m\u001b[38;5;124m'\u001b[39m):\n\u001b[0;32m-> 1141\u001b[0m         blob \u001b[38;5;241m=\u001b[39m \u001b[43mobj\u001b[49m\u001b[38;5;241;43m.\u001b[39;49m\u001b[43mget_structure_string\u001b[49m\u001b[43m(\u001b[49m\u001b[43m)\u001b[49m\n\u001b[1;32m   1142\u001b[0m         kwargs2[\u001b[38;5;124m'\u001b[39m\u001b[38;5;124mext\u001b[39m\u001b[38;5;124m'\u001b[39m] \u001b[38;5;241m=\u001b[39m obj\u001b[38;5;241m.\u001b[39mext\n\u001b[1;32m   1143\u001b[0m         passing_buffer \u001b[38;5;241m=\u001b[39m \u001b[38;5;28;01mTrue\u001b[39;00m\n",
      "File \u001b[0;32m~/miniconda3/envs/binding_env/lib/python3.10/site-packages/nglview/adaptor.py:472\u001b[0m, in \u001b[0;36mMDAnalysisTrajectory.get_structure_string\u001b[0;34m(self)\u001b[0m\n\u001b[1;32m    470\u001b[0m     \u001b[38;5;28;01mwith\u001b[39;00m warnings\u001b[38;5;241m.\u001b[39mcatch_warnings():\n\u001b[1;32m    471\u001b[0m         warnings\u001b[38;5;241m.\u001b[39msimplefilter(\u001b[38;5;124m'\u001b[39m\u001b[38;5;124mignore\u001b[39m\u001b[38;5;124m'\u001b[39m)\n\u001b[0;32m--> 472\u001b[0m         \u001b[43mw\u001b[49m\u001b[38;5;241;43m.\u001b[39;49m\u001b[43mwrite\u001b[49m\u001b[43m(\u001b[49m\u001b[43matoms\u001b[49m\u001b[43m)\u001b[49m\n\u001b[1;32m    473\u001b[0m \u001b[38;5;66;03m# extract from the stream\u001b[39;00m\n\u001b[1;32m    474\u001b[0m pdb_string \u001b[38;5;241m=\u001b[39m f\u001b[38;5;241m.\u001b[39mread()\n",
      "File \u001b[0;32m~/miniconda3/envs/binding_env/lib/python3.10/site-packages/MDAnalysis/coordinates/PDB.py:941\u001b[0m, in \u001b[0;36mPDBWriter.write\u001b[0;34m(self, obj)\u001b[0m\n\u001b[1;32m    923\u001b[0m \u001b[38;5;28;01mdef\u001b[39;00m\u001b[38;5;250m \u001b[39m\u001b[38;5;21mwrite\u001b[39m(\u001b[38;5;28mself\u001b[39m, obj):\n\u001b[1;32m    924\u001b[0m \u001b[38;5;250m    \u001b[39m\u001b[38;5;124;03m\"\"\"Write object *obj* at current trajectory frame to file.\u001b[39;00m\n\u001b[1;32m    925\u001b[0m \n\u001b[1;32m    926\u001b[0m \u001b[38;5;124;03m    *obj* can be a selection (i.e. a\u001b[39;00m\n\u001b[0;32m   (...)\u001b[0m\n\u001b[1;32m    938\u001b[0m \u001b[38;5;124;03m        :class:`~MDAnalysis.core.universe.Universe` to write.\u001b[39;00m\n\u001b[1;32m    939\u001b[0m \u001b[38;5;124;03m    \"\"\"\u001b[39;00m\n\u001b[0;32m--> 941\u001b[0m     \u001b[38;5;28;43mself\u001b[39;49m\u001b[38;5;241;43m.\u001b[39;49m\u001b[43m_update_frame\u001b[49m\u001b[43m(\u001b[49m\u001b[43mobj\u001b[49m\u001b[43m)\u001b[49m\n\u001b[1;32m    942\u001b[0m     \u001b[38;5;28mself\u001b[39m\u001b[38;5;241m.\u001b[39m_write_pdb_header()\n\u001b[1;32m    943\u001b[0m     \u001b[38;5;66;03m# Issue 105: with write() ONLY write a single frame; use\u001b[39;00m\n\u001b[1;32m    944\u001b[0m     \u001b[38;5;66;03m# write_all_timesteps() to dump everything in one go, or do the\u001b[39;00m\n\u001b[1;32m    945\u001b[0m     \u001b[38;5;66;03m# traditional loop over frames\u001b[39;00m\n",
      "File \u001b[0;32m~/miniconda3/envs/binding_env/lib/python3.10/site-packages/MDAnalysis/coordinates/PDB.py:916\u001b[0m, in \u001b[0;36mPDBWriter._update_frame\u001b[0;34m(self, obj)\u001b[0m\n\u001b[1;32m    912\u001b[0m     \u001b[38;5;28;01mraise\u001b[39;00m \u001b[38;5;167;01mTypeError\u001b[39;00m(\u001b[38;5;124m\"\u001b[39m\u001b[38;5;124mPDBWriter cannot write Timestep objects \u001b[39m\u001b[38;5;124m\"\u001b[39m\n\u001b[1;32m    913\u001b[0m                     \u001b[38;5;124m\"\u001b[39m\u001b[38;5;124mdirectly, since they lack topology information (\u001b[39m\u001b[38;5;124m\"\u001b[39m\n\u001b[1;32m    914\u001b[0m                     \u001b[38;5;124m\"\u001b[39m\u001b[38;5;124matom names and types) required in PDB files\u001b[39m\u001b[38;5;124m\"\u001b[39m)\n\u001b[1;32m    915\u001b[0m \u001b[38;5;28;01mif\u001b[39;00m \u001b[38;5;28mlen\u001b[39m(obj\u001b[38;5;241m.\u001b[39matoms) \u001b[38;5;241m==\u001b[39m \u001b[38;5;241m0\u001b[39m:\n\u001b[0;32m--> 916\u001b[0m     \u001b[38;5;28;01mraise\u001b[39;00m \u001b[38;5;167;01mIndexError\u001b[39;00m(\u001b[38;5;124m\"\u001b[39m\u001b[38;5;124mCannot write empty AtomGroup\u001b[39m\u001b[38;5;124m\"\u001b[39m)\n\u001b[1;32m    918\u001b[0m \u001b[38;5;66;03m# remember obj for some of other methods --- NOTE: this is an evil/lazy\u001b[39;00m\n\u001b[1;32m    919\u001b[0m \u001b[38;5;66;03m# hack...\u001b[39;00m\n\u001b[1;32m    920\u001b[0m \u001b[38;5;28mself\u001b[39m\u001b[38;5;241m.\u001b[39mobj \u001b[38;5;241m=\u001b[39m obj\n",
      "\u001b[0;31mIndexError\u001b[0m: Cannot write empty AtomGroup"
     ]
    }
   ],
   "source": [
    "# Load PDB file\n",
    "u = mda.Universe(f\"pdb{pdb_id}.ent\")\n",
    "\n",
    "# Select protein and ligand\n",
    "protein = u.select_atoms(\"protein\")\n",
    "ligand = u.select_atoms(\"resname LIG\")  # Replace 'LIG' with actual ligand name\n",
    "\n",
    "# Visualize binding site\n",
    "view = nv.show_mdanalysis(protein)\n",
    "view.clear_representations()\n",
    "view.add_representation(\"surface\", colorScheme=\"hydrophobicity\")\n",
    "lig_view = view.add_component(ligand)\n",
    "lig_view.center()\n",
    "\n",
    "# Interaction analysis\n",
    "protein_mol = plf.Molecule.from_mda(protein)\n",
    "ligand_mol = plf.Molecule.from_mda(ligand)\n",
    "fp = plf.Fingerprint()\n",
    "interactions = fp.run_from_iterable([ligand_mol], protein_mol)\n",
    "\n",
    "# Display interactions\n",
    "view = fp.plot_lignetwork([ligand_mol])\n",
    "view"
   ]
  },
  {
   "cell_type": "code",
   "execution_count": null,
   "id": "dd991053-72ac-42c9-9115-614b91a60d3a",
   "metadata": {},
   "outputs": [],
   "source": []
  }
 ],
 "metadata": {
  "kernelspec": {
   "display_name": "binding_env",
   "language": "python",
   "name": "binding_env"
  },
  "language_info": {
   "codemirror_mode": {
    "name": "ipython",
    "version": 3
   },
   "file_extension": ".py",
   "mimetype": "text/x-python",
   "name": "python",
   "nbconvert_exporter": "python",
   "pygments_lexer": "ipython3",
   "version": "3.10.16"
  }
 },
 "nbformat": 4,
 "nbformat_minor": 5
}
